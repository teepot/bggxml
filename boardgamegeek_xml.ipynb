{
 "cells": [
  {
   "cell_type": "markdown",
   "metadata": {},
   "source": [
    "Reference https://boardgamegeek.com/wiki/page/BGG_XML_API2"
   ]
  },
  {
   "cell_type": "code",
   "execution_count": 16,
   "metadata": {
    "collapsed": true
   },
   "outputs": [],
   "source": [
    "import requests\n",
    "import xmltodict"
   ]
  },
  {
   "cell_type": "code",
   "execution_count": 17,
   "metadata": {
    "collapsed": true
   },
   "outputs": [],
   "source": [
    "# Falling sky rules forum\n",
    "fs_rules_forum_id = 1542958"
   ]
  },
  {
   "cell_type": "code",
   "execution_count": 18,
   "metadata": {
    "collapsed": true
   },
   "outputs": [],
   "source": [
    "# for testing purposes use the BGG XML API2 and see what we get\n",
    "req = requests.get('https://www.boardgamegeek.com/xmlapi2/forum?id=1542958&page=1')\n",
    "rules_forum = xmltodict.parse(req.text)"
   ]
  },
  {
   "cell_type": "code",
   "execution_count": 19,
   "metadata": {
    "collapsed": true
   },
   "outputs": [],
   "source": [
    "topics = rules_forum['forum']['threads']['thread']"
   ]
  },
  {
   "cell_type": "code",
   "execution_count": 20,
   "metadata": {
    "collapsed": false
   },
   "outputs": [
    {
     "data": {
      "text/plain": [
       "OrderedDict([('@id', '1779498'),\n",
       "             ('@subject', 'No faction eligible for a card'),\n",
       "             ('@author', 'Rheinlaender'),\n",
       "             ('@numarticles', '2'),\n",
       "             ('@postdate', 'Sat, 13 May 2017 03:55:18 +0000'),\n",
       "             ('@lastpostdate', 'Sat, 13 May 2017 04:27:25 +0000')])"
      ]
     },
     "execution_count": 20,
     "metadata": {},
     "output_type": "execute_result"
    }
   ],
   "source": [
    "# show the first topic on page 1\n",
    "topics[0]"
   ]
  },
  {
   "cell_type": "code",
   "execution_count": 21,
   "metadata": {
    "collapsed": false
   },
   "outputs": [
    {
     "data": {
      "text/plain": [
       "'1779498'"
      ]
     },
     "execution_count": 21,
     "metadata": {},
     "output_type": "execute_result"
    }
   ],
   "source": [
    "# display the id of the first topic on page 1\n",
    "topics[0]['@id']"
   ]
  },
  {
   "cell_type": "code",
   "execution_count": 36,
   "metadata": {
    "collapsed": false
   },
   "outputs": [
    {
     "name": "stdout",
     "output_type": "stream",
     "text": [
      "1779498 - 13 May 2017 - Rheinlaender - No faction eligible for a card\n",
      "1776616 - 08 May 2017 - Rheinlaender - Flight of Ambiorix - Averni Bot plays it?\n",
      "1774999 - 04 May 2017 - marsss - caesar defending and counterattacking\n",
      "1774924 - 04 May 2017 - Kaede11 - Aedui boii event (NONPLAYER)\n",
      "1774094 - 03 May 2017 - Kaede11 - How do bots retreat?\n"
     ]
    }
   ],
   "source": [
    "# list all the topics on page 1\n",
    "for topic in topics[:5]:\n",
    "    print(topic['@id'], '-', topic['@postdate'][5:16], '-', topic['@author'], '-', topic['@subject'])"
   ]
  },
  {
   "cell_type": "code",
   "execution_count": 23,
   "metadata": {
    "collapsed": false
   },
   "outputs": [],
   "source": [
    "# retrieve the data associated with 1692043\n",
    "req = requests.get('https://www.boardgamegeek.com/xmlapi2/thread?id=1692043')\n",
    "mythread = xmltodict.parse(req.text)"
   ]
  },
  {
   "cell_type": "code",
   "execution_count": 24,
   "metadata": {
    "collapsed": false,
    "scrolled": false
   },
   "outputs": [
    {
     "data": {
      "text/plain": [
       "[OrderedDict([('@id', '24530423'),\n",
       "              ('@username', 'familygaming'),\n",
       "              ('@link', 'http://boardgamegeek.com/article/24530423#24530423'),\n",
       "              ('@postdate', '2016-12-18T23:34:17-06:00'),\n",
       "              ('@editdate', '2016-12-18T23:35:21-06:00'),\n",
       "              ('@numedits', '1'),\n",
       "              ('subject', 'PLAYBOOK - Confusion about Roman recruit (p. 13)'),\n",
       "              ('body',\n",
       "               'On page 13, left column, Fourth paragraph (above the diagram), it says that Romans have \"Recruiting possibilities remain in the Nervii and Unii regions\". Why can\\'t they recruit in Treveri also, where they have a fort?<br/><br/>The rules clearly state (3.2.1) that Romans need control to get an Ally down, but they only need Leader/Fort/Ally to add Auxilia. Since Treveri is \"No Control\", why can\\'t the Romans place Auxilia there? If it was under Gallic control could they?<br/><br/><br/>I love this community because I know I will have an answer in less than 15 minutes. Thanks in advance.<br/><br/>EDIT: Added \"place Auxilia\" to be more specific.')]),\n",
       " OrderedDict([('@id', '24530461'),\n",
       "              ('@username', 'supermaxv'),\n",
       "              ('@link', 'http://boardgamegeek.com/article/24530461#24530461'),\n",
       "              ('@postdate', '2016-12-18T23:47:06-06:00'),\n",
       "              ('@editdate', '2016-12-18T23:47:06-06:00'),\n",
       "              ('@numedits', '0'),\n",
       "              ('subject',\n",
       "               'Re: PLAYBOOK - Confusion about Roman recruit (p. 13)'),\n",
       "              ('body',\n",
       "               '<font color=#2121A4><div class=\\'quote\\'><div class=\\'quotetitle\\'><p><b>familygaming wrote:</b></p></div><div class=\\'quotebody\\'><i>On page 13, left column, Fourth paragraph (above the diagram), it says that Romans have \"Recruiting possibilities remain in the Nervii and Unii regions\". Why can\\'t they recruit in Treveri also, where they have a fort?<br/><br/>The rules clearly state (3.2.1) that Romans need control to get an Ally down, but they only need Leader/Fort/Ally to add Auxilia. Since Treveri is \"No Control\", why can\\'t the Romans place Auxilia there? If it was under Gallic control could they?<br/><br/><br/>I love this community because I know I will have an answer in less than 15 minutes. Thanks in advance.<br/><br/>EDIT: Added \"place Auxilia\" to be more specific.</i></div></div></font><br/><br/>Agh, not under 15 minutes. <img src=\"//cf.geekdo-static.com/images/blush.gif\" alt=\"blush\"><img src=\"//cf.geekdo-static.com/images/blush.gif\" alt=\"blush\"><br/><br/>From the <a href=\"/thread/1575854/falling-sky-official-errata\" target=\"_blank\" class=\"postlink\" rel=\"nofollow\">official errata thread</a> here at BGG:<br/><br/><font color=#2121A4><div class=\\'quote\\'><div class=\\'quotebody\\'><i>Page 13, first full paragraph, line 5: \"one Auxilia\" should be \"two Auxilia\". <b>Note also that the Romans could have Recruited 1 Auxilia in Treveri for the Fort there. </b>Last paragraph, note that Arverni Rally at Carnutes could replace their Ally in the City of Cenabum with a Citadel.</i></div></div></font>')]),\n",
       " OrderedDict([('@id', '24530468'),\n",
       "              ('@username', 'Jesse Custer'),\n",
       "              ('@link', 'http://boardgamegeek.com/article/24530468#24530468'),\n",
       "              ('@postdate', '2016-12-18T23:50:33-06:00'),\n",
       "              ('@editdate', '2016-12-18T23:50:33-06:00'),\n",
       "              ('@numedits', '0'),\n",
       "              ('subject',\n",
       "               'Re: PLAYBOOK - Confusion about Roman recruit (p. 13)'),\n",
       "              ('body', 'Simply because that player chose not to.')]),\n",
       " OrderedDict([('@id', '24530473'),\n",
       "              ('@username', 'Jesse Custer'),\n",
       "              ('@link', 'http://boardgamegeek.com/article/24530473#24530473'),\n",
       "              ('@postdate', '2016-12-18T23:52:05-06:00'),\n",
       "              ('@editdate', '2016-12-18T23:52:05-06:00'),\n",
       "              ('@numedits', '0'),\n",
       "              ('subject',\n",
       "               'Re: PLAYBOOK - Confusion about Roman recruit (p. 13)'),\n",
       "              ('body',\n",
       "               \"<font color=#2121A4><div class='quote'><div class='quotetitle'><p><b>supermaxv wrote:</b></p></div><div class='quotebody'><i><br/>Agh, not under 15 minutes. :blush::blush:<br/></i></div></div></font><br/><br/>Actually, you had at least a minute to spare.\")]),\n",
       " OrderedDict([('@id', '24540485'),\n",
       "              ('@username', 'familygaming'),\n",
       "              ('@link', 'http://boardgamegeek.com/article/24540485#24540485'),\n",
       "              ('@postdate', '2016-12-19T22:31:34-06:00'),\n",
       "              ('@editdate', '2016-12-19T22:31:34-06:00'),\n",
       "              ('@numedits', '0'),\n",
       "              ('subject',\n",
       "               'Re: PLAYBOOK - Confusion about Roman recruit (p. 13)'),\n",
       "              ('body',\n",
       "               'Thanks for coming to my aid. I was rushing to re-read the tutorial before teaching it today. A few niggling questions came up but it went well overall. I now have a 4p that is looking forward to playing COIN again soon.')])]"
      ]
     },
     "execution_count": 24,
     "metadata": {},
     "output_type": "execute_result"
    }
   ],
   "source": [
    "# the thread is broken down into articles.\n",
    "# display all the articles from 1692043\n",
    "mythread['thread']['articles']['article']"
   ]
  },
  {
   "cell_type": "code",
   "execution_count": 25,
   "metadata": {
    "collapsed": false
   },
   "outputs": [],
   "source": [
    "from bs4 import BeautifulSoup"
   ]
  },
  {
   "cell_type": "code",
   "execution_count": 26,
   "metadata": {
    "collapsed": false
   },
   "outputs": [
    {
     "name": "stdout",
     "output_type": "stream",
     "text": [
      "On page 13, left column, Fourth paragraph (above the diagram), it says that Romans have \"Recruiting possibilities remain in the Nervii and Unii regions\". Why can't they recruit in Treveri also, where they have a fort?\n",
      "\n",
      "The rules clearly state (3.2.1) that Romans need control to get an Ally down, but they only need Leader/Fort/Ally to add Auxilia. Since Treveri is \"No Control\", why can't the Romans place Auxilia there? If it was under Gallic control could they?\n",
      "\n",
      "\n",
      "I love this community because I know I will have an answer in less than 15 minutes. Thanks in advance.\n",
      "\n",
      "EDIT: Added \"place Auxilia\" to be more specific.\n"
     ]
    }
   ],
   "source": [
    "# Replace HTML line feeds and paragraphs using appropriate \\n, then use BeautifulSoup to strip out HTML tags\n",
    "print(BeautifulSoup(\n",
    "    mythread['thread']['articles']['article'][0]['body'].replace('<br/>','\\n').replace('</p>', '\\n\\n'),\n",
    "    'lxml').text)"
   ]
  },
  {
   "cell_type": "code",
   "execution_count": 27,
   "metadata": {
    "collapsed": true
   },
   "outputs": [],
   "source": [
    "# we want to see how things behave when we pull data for an non-existent page.\n",
    "req = requests.get('https://www.boardgamegeek.com/xmlapi2/forum?id=1542958&page=10')\n",
    "rules_forum = xmltodict.parse(req.text)"
   ]
  },
  {
   "cell_type": "code",
   "execution_count": 33,
   "metadata": {
    "collapsed": true
   },
   "outputs": [],
   "source": [
    "page_num = 0\n",
    "threads = []\n",
    "# Gather all threads from the Falling Sky rules forum (1542958) by looping through all topic pages.\n",
    "# We don't know how many pages there are so we will use a while loop.\n",
    "# When xml is returned with no thread data, we will get a TypeError exception when we try to access it. \n",
    "while True:\n",
    "    page_num += 1\n",
    "    uri = 'https://www.boardgamegeek.com/xmlapi2/forum?id=1542958&page={}'.format(page_num)\n",
    "    req = requests.get(uri)\n",
    "    rules_forum_topics_page = xmltodict.parse(req.text)\n",
    "    try:\n",
    "        # get the threads from the page\n",
    "        thread_list = rules_forum_topics_page['forum']['threads']['thread']\n",
    "        \n",
    "    except TypeError:\n",
    "        # TypeError exception thrown because there are no threads to access so break out of loop \n",
    "        break\n",
    "        \n",
    "    # create the link to get to the thread\n",
    "    for thread in thread_list:\n",
    "        thread['link'] = 'https://boardgamegeek.com/thread/{}'.format(thread['@id'])\n",
    "    \n",
    "    threads.extend(thread_list)"
   ]
  },
  {
   "cell_type": "code",
   "execution_count": 35,
   "metadata": {
    "collapsed": false
   },
   "outputs": [
    {
     "data": {
      "text/plain": [
       "[OrderedDict([('@id', '1779498'),\n",
       "              ('@subject', 'No faction eligible for a card'),\n",
       "              ('@author', 'Rheinlaender'),\n",
       "              ('@numarticles', '2'),\n",
       "              ('@postdate', 'Sat, 13 May 2017 03:55:18 +0000'),\n",
       "              ('@lastpostdate', 'Sat, 13 May 2017 04:27:25 +0000'),\n",
       "              ('link', 'https://boardgamegeek.com/thread/1779498')]),\n",
       " OrderedDict([('@id', '1776616'),\n",
       "              ('@subject', 'Flight of Ambiorix - Averni Bot plays it?'),\n",
       "              ('@author', 'Rheinlaender'),\n",
       "              ('@numarticles', '4'),\n",
       "              ('@postdate', 'Mon, 08 May 2017 01:01:47 +0000'),\n",
       "              ('@lastpostdate', 'Mon, 08 May 2017 10:49:11 +0000'),\n",
       "              ('link', 'https://boardgamegeek.com/thread/1776616')]),\n",
       " OrderedDict([('@id', '1774999'),\n",
       "              ('@subject', 'caesar defending and counterattacking'),\n",
       "              ('@author', 'marsss'),\n",
       "              ('@numarticles', '2'),\n",
       "              ('@postdate', 'Thu, 04 May 2017 21:06:13 +0000'),\n",
       "              ('@lastpostdate', 'Thu, 04 May 2017 21:16:22 +0000'),\n",
       "              ('link', 'https://boardgamegeek.com/thread/1774999')])]"
      ]
     },
     "execution_count": 35,
     "metadata": {},
     "output_type": "execute_result"
    }
   ],
   "source": [
    "threads[:3]"
   ]
  },
  {
   "cell_type": "code",
   "execution_count": null,
   "metadata": {
    "collapsed": true
   },
   "outputs": [],
   "source": []
  }
 ],
 "metadata": {
  "anaconda-cloud": {},
  "kernelspec": {
   "display_name": "Python [conda root]",
   "language": "python",
   "name": "conda-root-py"
  },
  "language_info": {
   "codemirror_mode": {
    "name": "ipython",
    "version": 3
   },
   "file_extension": ".py",
   "mimetype": "text/x-python",
   "name": "python",
   "nbconvert_exporter": "python",
   "pygments_lexer": "ipython3",
   "version": "3.5.2"
  }
 },
 "nbformat": 4,
 "nbformat_minor": 1
}
